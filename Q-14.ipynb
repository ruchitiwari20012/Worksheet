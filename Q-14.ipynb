{
 "cells": [
  {
   "cell_type": "code",
   "execution_count": 4,
   "metadata": {},
   "outputs": [
    {
     "name": "stdout",
     "output_type": "stream",
     "text": [
      "Hypotenuse = 10.0\n",
      "Side2 = 6.0\n",
      "Side1 = 8.0\n"
     ]
    }
   ],
   "source": [
    "def FindSideInRigTri(side1,side2,hypotenuse):\n",
    "        if side1 == str(\"x\"):\n",
    "            return (\"Side1 = \" + str(((hypotenuse**2) - (side2**2))**0.5))\n",
    "        elif side2 == str(\"x\"):\n",
    "            return (\"Side2 = \" + str(((hypotenuse**2) - (side1**2))**0.5))\n",
    "        elif hypotenuse == str(\"x\"):\n",
    "            return (\"Hypotenuse = \" + str(((side1**2) + (side2**2))**0.5))\n",
    "        \n",
    "    \n",
    "print(FindSideInRigTri(8,6,'x'))\n",
    "print(FindSideInRigTri(8,'x',10))\n",
    "print(FindSideInRigTri('x',6,10))"
   ]
  },
  {
   "cell_type": "code",
   "execution_count": null,
   "metadata": {},
   "outputs": [],
   "source": []
  }
 ],
 "metadata": {
  "kernelspec": {
   "display_name": "Python 3",
   "language": "python",
   "name": "python3"
  },
  "language_info": {
   "codemirror_mode": {
    "name": "ipython",
    "version": 3
   },
   "file_extension": ".py",
   "mimetype": "text/x-python",
   "name": "python",
   "nbconvert_exporter": "python",
   "pygments_lexer": "ipython3",
   "version": "3.7.6"
  }
 },
 "nbformat": 4,
 "nbformat_minor": 4
}
