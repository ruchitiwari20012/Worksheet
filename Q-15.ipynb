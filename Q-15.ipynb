{
 "cells": [
  {
   "cell_type": "code",
   "execution_count": 5,
   "metadata": {},
   "outputs": [
    {
     "name": "stdout",
     "output_type": "stream",
     "text": [
      "Count of all characters in malyalam is :\n",
      " {'m': 2, 'a': 3, 'l': 2, 'y': 1}\n"
     ]
    }
   ],
   "source": [
    "# initializing string  \n",
    "test_str = \"malyalam\"\n",
    "  \n",
    "all_freq = {} \n",
    "  \n",
    "for i in test_str: \n",
    "    if i in all_freq: \n",
    "        all_freq[i] += 1\n",
    "    else: \n",
    "        all_freq[i] = 1\n",
    "  \n",
    "# printing result  \n",
    "print (\"Count of all characters in malyalam is :\\n \"\n",
    "                                        +  str(all_freq)) \n"
   ]
  },
  {
   "cell_type": "code",
   "execution_count": 2,
   "metadata": {},
   "outputs": [
    {
     "name": "stdout",
     "output_type": "stream",
     "text": [
      "Count of all characters in RuchiTiwari is :\n",
      " {'R': 1, 'u': 1, 'c': 1, 'h': 1, 'i': 3, 'T': 1, 'w': 1, 'a': 1, 'r': 1}\n"
     ]
    }
   ],
   "source": [
    "# initializing string  \n",
    "test_str = \"RuchiTiwari\"\n",
    "  \n",
    "all_freq = {} \n",
    "  \n",
    "for i in test_str: \n",
    "    if i in all_freq: \n",
    "        all_freq[i] += 1\n",
    "    else: \n",
    "        all_freq[i] = 1\n",
    "  \n",
    "# printing result  \n",
    "print (\"Count of all characters in RuchiTiwari is :\\n \"\n",
    "                                        +  str(all_freq)) \n"
   ]
  },
  {
   "cell_type": "code",
   "execution_count": null,
   "metadata": {},
   "outputs": [],
   "source": []
  }
 ],
 "metadata": {
  "kernelspec": {
   "display_name": "Python 3",
   "language": "python",
   "name": "python3"
  },
  "language_info": {
   "codemirror_mode": {
    "name": "ipython",
    "version": 3
   },
   "file_extension": ".py",
   "mimetype": "text/x-python",
   "name": "python",
   "nbconvert_exporter": "python",
   "pygments_lexer": "ipython3",
   "version": "3.7.6"
  }
 },
 "nbformat": 4,
 "nbformat_minor": 4
}
