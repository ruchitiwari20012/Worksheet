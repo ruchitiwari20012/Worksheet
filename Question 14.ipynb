{
 "cells": [
  {
   "cell_type": "code",
   "execution_count": 2,
   "metadata": {},
   "outputs": [
    {
     "name": "stdout",
     "output_type": "stream",
     "text": [
      "    *\n",
      "   ***\n",
      "  *****\n",
      " *******\n",
      "*********\n",
      " *******\n",
      "  *****\n",
      "   ***\n",
      "    *\n"
     ]
    }
   ],
   "source": [
    "# Function to print \n",
    "# Diamond shape \n",
    "def Diamond(rows): \n",
    "    n = 0\n",
    "    for i in range(1, rows + 1): \n",
    "        # loop to print spaces \n",
    "        for j in range (1, (rows - i) + 1): \n",
    "            print(end = \" \") \n",
    "          \n",
    "        # loop to print star \n",
    "        while n != (2 * i - 1): \n",
    "            print(\"*\", end = \"\") \n",
    "            n = n + 1\n",
    "        n = 0\n",
    "          \n",
    "        # line break \n",
    "        print()  \n",
    "  \n",
    "    k = 1\n",
    "    n = 1\n",
    "    for i in range(1, rows): \n",
    "        # loop to print spaces \n",
    "        for j in range (1, k + 1): \n",
    "            print(end = \" \") \n",
    "        k = k + 1\n",
    "          \n",
    "        # loop to print star \n",
    "        while n <= (2 * (rows - i) - 1): \n",
    "            print('*', end = \"\") \n",
    "            n = n + 1\n",
    "        n = 1\n",
    "        print() \n",
    "  \n",
    "# Driver Code \n",
    "# number of rows input \n",
    "rows = 5\n",
    "Diamond(rows) "
   ]
  },
  {
   "cell_type": "code",
   "execution_count": null,
   "metadata": {},
   "outputs": [],
   "source": []
  }
 ],
 "metadata": {
  "kernelspec": {
   "display_name": "Python 3",
   "language": "python",
   "name": "python3"
  },
  "language_info": {
   "codemirror_mode": {
    "name": "ipython",
    "version": 3
   },
   "file_extension": ".py",
   "mimetype": "text/x-python",
   "name": "python",
   "nbconvert_exporter": "python",
   "pygments_lexer": "ipython3",
   "version": "3.7.6"
  }
 },
 "nbformat": 4,
 "nbformat_minor": 4
}
