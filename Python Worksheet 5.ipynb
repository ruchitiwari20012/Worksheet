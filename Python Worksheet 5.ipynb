{
 "cells": [
  {
   "cell_type": "code",
   "execution_count": 14,
   "metadata": {},
   "outputs": [
    {
     "name": "stdout",
     "output_type": "stream",
     "text": [
      "[1, 4, 9, 16, 25]\n"
     ]
    }
   ],
   "source": [
    "#12:-write a python program to square the elements of a list by using list comprehension.\n",
    "\n",
    "numbers = [1,2,3,4,5]\n",
    "squared_numbers = [number **2 for number in numbers]\n",
    "print(squared_numbers)"
   ]
  },
  {
   "cell_type": "code",
   "execution_count": 15,
   "metadata": {},
   "outputs": [
    {
     "name": "stdout",
     "output_type": "stream",
     "text": [
      "{5, 6, 7, 9, 10, 20}\n"
     ]
    }
   ],
   "source": [
    "#13:-Write a pyhton program to drop duplicate elements from a list of numbers.\n",
    "\n",
    "a = [10,20,10,9,6,6,5,7]\n",
    "\n",
    "dup_items = set()\n",
    "uniq_items = []\n",
    "for x in a:\n",
    "    if x not in dup_items:\n",
    "        uniq_items.append(x)\n",
    "        dup_items.add(x)\n",
    "\n",
    "print(dup_items)"
   ]
  },
  {
   "cell_type": "code",
   "execution_count": 16,
   "metadata": {},
   "outputs": [
    {
     "name": "stdout",
     "output_type": "stream",
     "text": [
      "Union : {0, 1, 2, 3, 4, 5, 6, 8}\n",
      "Intersection : {2, 4}\n",
      "Difference : {0, 8, 6}\n",
      "Symmetric difference : {0, 1, 3, 5, 6, 8}\n"
     ]
    }
   ],
   "source": [
    "#14:-Take two sets of numbers and try implementing the set operations - intersection, union, difference and symmetric_difference between them.\n",
    "\n",
    "\n",
    "# sets are define \n",
    "A = {0, 2, 4, 6, 8}; \n",
    "B = {1, 2, 3, 4, 5}; \n",
    "  \n",
    "# union \n",
    "print(\"Union :\", A | B) \n",
    "  \n",
    "# intersection \n",
    "print(\"Intersection :\", A & B) \n",
    "  \n",
    "# difference \n",
    "print(\"Difference :\", A - B) \n",
    "  \n",
    "# symmetric difference \n",
    "print(\"Symmetric difference :\", A ^ B) "
   ]
  },
  {
   "cell_type": "code",
   "execution_count": 17,
   "metadata": {},
   "outputs": [
    {
     "name": "stdout",
     "output_type": "stream",
     "text": [
      "Letters are: {0, 1, 4, 6}\n",
      "Letters are: {0, 1, 2, 4, 6}\n"
     ]
    }
   ],
   "source": [
    "#15:-Write a python program to add the elements of a set.\n",
    "\n",
    "# set of letters \n",
    "ABC = {6, 0, 4} \n",
    "  \n",
    "# adding 1 \n",
    "ABC.add(1) \n",
    "print('Letters are:', ABC) \n",
    "  \n",
    "# adding 2  \n",
    "ABC.add(2) \n",
    "print('Letters are:', ABC) "
   ]
  },
  {
   "cell_type": "code",
   "execution_count": null,
   "metadata": {},
   "outputs": [],
   "source": []
  }
 ],
 "metadata": {
  "kernelspec": {
   "display_name": "Python 3",
   "language": "python",
   "name": "python3"
  },
  "language_info": {
   "codemirror_mode": {
    "name": "ipython",
    "version": 3
   },
   "file_extension": ".py",
   "mimetype": "text/x-python",
   "name": "python",
   "nbconvert_exporter": "python",
   "pygments_lexer": "ipython3",
   "version": "3.7.6"
  }
 },
 "nbformat": 4,
 "nbformat_minor": 4
}
