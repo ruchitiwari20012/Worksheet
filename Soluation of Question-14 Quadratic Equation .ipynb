{
 "cells": [
  {
   "cell_type": "code",
   "execution_count": 2,
   "metadata": {},
   "outputs": [
    {
     "name": "stdout",
     "output_type": "stream",
     "text": [
      "Enter value a: 10\n",
      "Enter value b: 5\n",
      "Enter valuec: 5\n",
      "The solution are (-0.25-0.6614378277661477j) and (-0.25+0.6614378277661477j)\n"
     ]
    }
   ],
   "source": [
    "# Calling the library cmath\n",
    "import cmath  \n",
    "a = float(input('Enter value a: '))  \n",
    "b = float(input('Enter value b: '))  \n",
    "c = float(input('Enter value c: '))  \n",
    "  \n",
    "# calculate the discriminant  \n",
    "d = (b**2) - (4*a*c)  \n",
    "  \n",
    "# find two solutions  \n",
    "solution1 = (-b-cmath.sqrt(d))/(2*a)  \n",
    "solution2 = (-b+cmath.sqrt(d))/(2*a)  \n",
    "print('The solution are {0} and {1}'.format(solution1,solution2))   "
   ]
  },
  {
   "cell_type": "code",
   "execution_count": 3,
   "metadata": {},
   "outputs": [
    {
     "name": "stdout",
     "output_type": "stream",
     "text": [
      "Enter value a: 9\n",
      "Enter value b: 7\n",
      "Enter valuec: 2\n",
      "The solution are (-0.3888888888888889-0.2664350846284844j) and (-0.3888888888888889+0.2664350846284844j)\n"
     ]
    }
   ],
   "source": [
    "import cmath  \n",
    "a = float(input('Enter value a: '))  \n",
    "b = float(input('Enter value b: '))  \n",
    "c = float(input('Enter value c: '))  \n",
    "  \n",
    "# calculate the discriminant  \n",
    "d = (b**2) - (4*a*c)  \n",
    "  \n",
    "# find two solutions  \n",
    "solution1 = (-b-cmath.sqrt(d))/(2*a)  \n",
    "solution2 = (-b+cmath.sqrt(d))/(2*a)  \n",
    "print('The solution are {0} and {1}'.format(solution1,solution2))   "
   ]
  },
  {
   "cell_type": "code",
   "execution_count": null,
   "metadata": {},
   "outputs": [],
   "source": []
  }
 ],
 "metadata": {
  "kernelspec": {
   "display_name": "Python 3",
   "language": "python",
   "name": "python3"
  },
  "language_info": {
   "codemirror_mode": {
    "name": "ipython",
    "version": 3
   },
   "file_extension": ".py",
   "mimetype": "text/x-python",
   "name": "python",
   "nbconvert_exporter": "python",
   "pygments_lexer": "ipython3",
   "version": "3.7.6"
  }
 },
 "nbformat": 4,
 "nbformat_minor": 4
}
