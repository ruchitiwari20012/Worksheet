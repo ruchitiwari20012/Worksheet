{
 "cells": [
  {
   "cell_type": "code",
   "execution_count": 13,
   "metadata": {},
   "outputs": [
    {
     "name": "stdout",
     "output_type": "stream",
     "text": [
      "           name  score  attempts qualify\n",
      "I     Anastasia   12.5         1     yes\n",
      "II         Dima    9.0         3      no\n",
      "III   Katherine   16.5         2     yes\n",
      "IV        James    NaN         3      no\n",
      "V         Emily    9.0         2      no\n",
      "VI      Michael   20.0         3     yes\n",
      "VII     Matthew   14.5         1     yes\n",
      "VIII      Laura    NaN         1      no\n",
      "IX        Kevin    8.0         2      no\n",
      "X         Jonas   19.0         1     yes\n"
     ]
    }
   ],
   "source": [
    "# 11 Write a Pandas program to create and display a DataFrame from the following dictionary data and labels\n",
    "\n",
    "import pandas as pd\n",
    "import numpy as np\n",
    "\n",
    "exam_data  = {'name': ['Anastasia', 'Dima', 'Katherine', 'James', 'Emily', 'Michael', 'Matthew', 'Laura', 'Kevin', 'Jonas'],\n",
    "        'score': [12.5, 9, 16.5, np.nan, 9, 20, 14.5, np.nan, 8, 19],\n",
    "        'attempts': [1, 3, 2, 3, 2, 3, 1, 1, 2, 1],\n",
    "        'qualify': ['yes', 'no', 'yes', 'no', 'no', 'yes', 'yes', 'no', 'no', 'yes']}\n",
    "labels = ['I', 'II', 'III', 'IV', 'V', 'VI', 'VII', 'VIII', 'IX', 'X']\n",
    "\n",
    "df = pd.DataFrame(exam_data , index=labels)\n",
    "print(df)"
   ]
  },
  {
   "cell_type": "code",
   "execution_count": 14,
   "metadata": {},
   "outputs": [
    {
     "name": "stdout",
     "output_type": "stream",
     "text": [
      "\n",
      "First 5 rows of the said DataFrame':\n",
      "          name  score  attempts qualify\n",
      "I    Anastasia   12.5         1     yes\n",
      "II        Dima    9.0         3      no\n",
      "III  Katherine   16.5         2     yes\n",
      "IV       James    NaN         3      no\n",
      "V        Emily    9.0         2      no\n"
     ]
    }
   ],
   "source": [
    "# 12 Write a Pandas program to get the first 5 rows of the DataFrame created in Q11.\n",
    "\n",
    "print(\"\\nFirst 5 rows of the said DataFrame':\")\n",
    "df1 = df.head(5)\n",
    "print(df1)"
   ]
  },
  {
   "cell_type": "code",
   "execution_count": 15,
   "metadata": {},
   "outputs": [
    {
     "name": "stdout",
     "output_type": "stream",
     "text": [
      "Select specific columns:\n",
      "           name  score\n",
      "I     Anastasia   12.5\n",
      "II         Dima    9.0\n",
      "III   Katherine   16.5\n",
      "IV        James    NaN\n",
      "V         Emily    9.0\n",
      "VI      Michael   20.0\n",
      "VII     Matthew   14.5\n",
      "VIII      Laura    NaN\n",
      "IX        Kevin    8.0\n",
      "X         Jonas   19.0\n"
     ]
    }
   ],
   "source": [
    "# 13 Write a Pandas program to select the 'name' and 'score' columns of the DataFrame created in Q11.\n",
    "\n",
    "print(\"Select specific columns:\")\n",
    "print(df[['name', 'score']])"
   ]
  },
  {
   "cell_type": "code",
   "execution_count": 16,
   "metadata": {},
   "outputs": [
    {
     "name": "stdout",
     "output_type": "stream",
     "text": [
      "Select specific columns and rows:\n",
      "        name  score\n",
      "IV     James    NaN\n",
      "VI   Michael   20.0\n",
      "VII  Matthew   14.5\n",
      "IX     Kevin    8.0\n"
     ]
    }
   ],
   "source": [
    "# 14 Write a Pandas program to select 'name' and 'score' columns in row indexes 3, 5, 6, 8 from the DataFrame created in Q11\n",
    "\n",
    "print(\"Select specific columns and rows:\")\n",
    "print(df.iloc[[3, 5, 6, 8], [0, 1]])"
   ]
  },
  {
   "cell_type": "code",
   "execution_count": 17,
   "metadata": {},
   "outputs": [
    {
     "name": "stdout",
     "output_type": "stream",
     "text": [
      "Rows where score between 15 and 20 (inclusive):\n",
      "          name  score  attempts qualify\n",
      "III  Katherine   16.5         2     yes\n",
      "VI     Michael   20.0         3     yes\n",
      "X        Jonas   19.0         1     yes\n"
     ]
    }
   ],
   "source": [
    "# 15 Write a Pandas program to select the rows where the score is between 15 and 20 (inclusive) from the DataFrame created in Q11\n",
    "\n",
    "print(\"Rows where score between 15 and 20 (inclusive):\")\n",
    "print(df[df['score'].between(15, 20)])\n",
    "\n",
    "\n"
   ]
  },
  {
   "cell_type": "code",
   "execution_count": null,
   "metadata": {},
   "outputs": [],
   "source": []
  }
 ],
 "metadata": {
  "kernelspec": {
   "display_name": "Python 3",
   "language": "python",
   "name": "python3"
  },
  "language_info": {
   "codemirror_mode": {
    "name": "ipython",
    "version": 3
   },
   "file_extension": ".py",
   "mimetype": "text/x-python",
   "name": "python",
   "nbconvert_exporter": "python",
   "pygments_lexer": "ipython3",
   "version": "3.7.6"
  }
 },
 "nbformat": 4,
 "nbformat_minor": 4
}
